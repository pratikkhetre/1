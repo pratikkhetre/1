{
 "cells": [
  {
   "cell_type": "code",
   "execution_count": 8,
   "id": "f70da461",
   "metadata": {},
   "outputs": [],
   "source": [
    "from tensorflow.keras.datasets import imdb"
   ]
  },
  {
   "cell_type": "code",
   "execution_count": 9,
   "id": "c4699927",
   "metadata": {},
   "outputs": [],
   "source": [
    "(train_data, train_label), (test_data, test_label) = imdb.load_data(num_words = 10000)"
   ]
  },
  {
   "cell_type": "code",
   "execution_count": 11,
   "id": "1af9f9d0",
   "metadata": {},
   "outputs": [],
   "source": [
    "import numpy as np\n",
    "\n",
    "def vectorize_sequences(sequences, dimensions = 10000):\n",
    "  results = np.zeros((len(sequences), dimensions))\n",
    "  for i,sequences in enumerate(sequences):\n",
    "    results[i, sequences] = 1\n",
    "  return results\n",
    "\n",
    "x_train = vectorize_sequences(train_data)\n",
    "y_train = vectorize_sequences(test_data)"
   ]
  },
  {
   "cell_type": "code",
   "execution_count": 12,
   "id": "d79b2a87",
   "metadata": {},
   "outputs": [],
   "source": [
    "\n",
    "y_train = np.asarray(train_label).astype('float32')\n",
    "y_test = np.asarray(test_label).astype('float32')\n",
    "     "
   ]
  },
  {
   "cell_type": "code",
   "execution_count": 13,
   "id": "c69c2765",
   "metadata": {},
   "outputs": [],
   "source": [
    "from tensorflow.keras.models import Sequential\n",
    "from tensorflow.keras.layers import Dense"
   ]
  },
  {
   "cell_type": "code",
   "execution_count": 14,
   "id": "36d6d89b",
   "metadata": {},
   "outputs": [
    {
     "name": "stdout",
     "output_type": "stream",
     "text": [
      "WARNING:tensorflow:From C:\\Users\\Aditya Bankar\\anaconda3\\lib\\site-packages\\keras\\src\\backend.py:873: The name tf.get_default_graph is deprecated. Please use tf.compat.v1.get_default_graph instead.\n",
      "\n"
     ]
    }
   ],
   "source": [
    "model = Sequential()\n",
    "model.add(Dense(16, input_shape=(10000, ), activation = \"relu\"))\n",
    "model.add(Dense(16, activation = \"relu\"))\n",
    "model.add(Dense(1, activation = \"sigmoid\"))"
   ]
  },
  {
   "cell_type": "code",
   "execution_count": 15,
   "id": "b6de4158",
   "metadata": {},
   "outputs": [
    {
     "name": "stdout",
     "output_type": "stream",
     "text": [
      "WARNING:tensorflow:From C:\\Users\\Aditya Bankar\\anaconda3\\lib\\site-packages\\keras\\src\\optimizers\\__init__.py:309: The name tf.train.Optimizer is deprecated. Please use tf.compat.v1.train.Optimizer instead.\n",
      "\n"
     ]
    }
   ],
   "source": [
    "\n",
    "model.compile(optimizer='adam', loss = 'mse', metrics = ['accuracy'])"
   ]
  },
  {
   "cell_type": "code",
   "execution_count": 16,
   "id": "55e0da22",
   "metadata": {},
   "outputs": [
    {
     "name": "stdout",
     "output_type": "stream",
     "text": [
      "Model: \"sequential\"\n",
      "_________________________________________________________________\n",
      " Layer (type)                Output Shape              Param #   \n",
      "=================================================================\n",
      " dense (Dense)               (None, 16)                160016    \n",
      "                                                                 \n",
      " dense_1 (Dense)             (None, 16)                272       \n",
      "                                                                 \n",
      " dense_2 (Dense)             (None, 1)                 17        \n",
      "                                                                 \n",
      "=================================================================\n",
      "Total params: 160305 (626.19 KB)\n",
      "Trainable params: 160305 (626.19 KB)\n",
      "Non-trainable params: 0 (0.00 Byte)\n",
      "_________________________________________________________________\n"
     ]
    }
   ],
   "source": [
    "model.summary()"
   ]
  },
  {
   "cell_type": "code",
   "execution_count": 17,
   "id": "85ae9001",
   "metadata": {},
   "outputs": [
    {
     "name": "stdout",
     "output_type": "stream",
     "text": [
      "Epoch 1/20\n",
      "WARNING:tensorflow:From C:\\Users\\Aditya Bankar\\anaconda3\\lib\\site-packages\\keras\\src\\utils\\tf_utils.py:492: The name tf.ragged.RaggedTensorValue is deprecated. Please use tf.compat.v1.ragged.RaggedTensorValue instead.\n",
      "\n",
      "WARNING:tensorflow:From C:\\Users\\Aditya Bankar\\anaconda3\\lib\\site-packages\\keras\\src\\engine\\base_layer_utils.py:384: The name tf.executing_eagerly_outside_functions is deprecated. Please use tf.compat.v1.executing_eagerly_outside_functions instead.\n",
      "\n",
      "35/35 [==============================] - 3s 52ms/step - loss: 0.1769 - accuracy: 0.7791 - val_loss: 0.1157 - val_accuracy: 0.8675\n",
      "Epoch 2/20\n",
      "35/35 [==============================] - 0s 12ms/step - loss: 0.0859 - accuracy: 0.9054 - val_loss: 0.0875 - val_accuracy: 0.8912\n",
      "Epoch 3/20\n",
      "35/35 [==============================] - 0s 11ms/step - loss: 0.0594 - accuracy: 0.9358 - val_loss: 0.0816 - val_accuracy: 0.8908\n",
      "Epoch 4/20\n",
      "35/35 [==============================] - 0s 10ms/step - loss: 0.0449 - accuracy: 0.9538 - val_loss: 0.0820 - val_accuracy: 0.8892\n",
      "Epoch 5/20\n",
      "35/35 [==============================] - 0s 11ms/step - loss: 0.0353 - accuracy: 0.9672 - val_loss: 0.0828 - val_accuracy: 0.8875\n",
      "Epoch 6/20\n",
      "35/35 [==============================] - 0s 11ms/step - loss: 0.0279 - accuracy: 0.9755 - val_loss: 0.0850 - val_accuracy: 0.8856\n",
      "Epoch 7/20\n",
      "35/35 [==============================] - 0s 11ms/step - loss: 0.0221 - accuracy: 0.9825 - val_loss: 0.0875 - val_accuracy: 0.8827\n",
      "Epoch 8/20\n",
      "35/35 [==============================] - 0s 10ms/step - loss: 0.0174 - accuracy: 0.9871 - val_loss: 0.0898 - val_accuracy: 0.8817\n",
      "Epoch 9/20\n",
      "35/35 [==============================] - 0s 10ms/step - loss: 0.0140 - accuracy: 0.9901 - val_loss: 0.0922 - val_accuracy: 0.8773\n",
      "Epoch 10/20\n",
      "35/35 [==============================] - 0s 11ms/step - loss: 0.0115 - accuracy: 0.9921 - val_loss: 0.0941 - val_accuracy: 0.8759\n",
      "Epoch 11/20\n",
      "35/35 [==============================] - 0s 11ms/step - loss: 0.0095 - accuracy: 0.9933 - val_loss: 0.0960 - val_accuracy: 0.8736\n",
      "Epoch 12/20\n",
      "35/35 [==============================] - 0s 11ms/step - loss: 0.0081 - accuracy: 0.9943 - val_loss: 0.0976 - val_accuracy: 0.8725\n",
      "Epoch 13/20\n",
      "35/35 [==============================] - 0s 10ms/step - loss: 0.0070 - accuracy: 0.9949 - val_loss: 0.0991 - val_accuracy: 0.8717\n",
      "Epoch 14/20\n",
      "35/35 [==============================] - 0s 10ms/step - loss: 0.0062 - accuracy: 0.9952 - val_loss: 0.1003 - val_accuracy: 0.8705\n",
      "Epoch 15/20\n",
      "35/35 [==============================] - 0s 11ms/step - loss: 0.0057 - accuracy: 0.9955 - val_loss: 0.1011 - val_accuracy: 0.8709\n",
      "Epoch 16/20\n",
      "35/35 [==============================] - 0s 11ms/step - loss: 0.0052 - accuracy: 0.9957 - val_loss: 0.1021 - val_accuracy: 0.8700\n",
      "Epoch 17/20\n",
      "35/35 [==============================] - 0s 10ms/step - loss: 0.0048 - accuracy: 0.9960 - val_loss: 0.1036 - val_accuracy: 0.8693\n",
      "Epoch 18/20\n",
      "35/35 [==============================] - 0s 10ms/step - loss: 0.0044 - accuracy: 0.9962 - val_loss: 0.1048 - val_accuracy: 0.8693\n",
      "Epoch 19/20\n",
      "35/35 [==============================] - 0s 10ms/step - loss: 0.0041 - accuracy: 0.9963 - val_loss: 0.1057 - val_accuracy: 0.8691\n",
      "Epoch 20/20\n",
      "35/35 [==============================] - 0s 10ms/step - loss: 0.0039 - accuracy: 0.9965 - val_loss: 0.1069 - val_accuracy: 0.8683\n"
     ]
    }
   ],
   "source": [
    "\n",
    "history = model.fit(x_train, y_train, validation_split = 0.3, epochs = 20, verbose = 1, batch_size = 512)"
   ]
  },
  {
   "cell_type": "code",
   "execution_count": 18,
   "id": "4ec711bc",
   "metadata": {},
   "outputs": [],
   "source": [
    "# imdb.load_data(num_words = 10000)"
   ]
  },
  {
   "cell_type": "code",
   "execution_count": 36,
   "id": "c755feeb",
   "metadata": {},
   "outputs": [
    {
     "name": "stdout",
     "output_type": "stream",
     "text": [
      "Enter the index of the review11\n",
      "Review at index 11:\n",
      "? when i rented this movie i had very low expectations but when i saw it i realized that the movie was less a lot less than what i expected the actors were bad the doctor's wife was one of the worst the story was so stupid it could work for a disney movie except for the murders but this one is not a comedy it is a laughable masterpiece of stupidity the title is well chosen except for one thing they could add stupid movie after dead husbands i give it 0 and a half out of 5\n",
      "Label: 0\n"
     ]
    }
   ],
   "source": [
    "from tensorflow.keras.datasets import imdb\n",
    "\n",
    "# Load the IMDB dataset\n",
    "(train_data, train_labels), (test_data, test_labels) = imdb.load_data(num_words=10000)\n",
    "\n",
    "# Decode the integer sequences into sentences\n",
    "review_index = int(input(\"Enter the index of the review\"))\n",
    "word_index = imdb.get_word_index()\n",
    "reverse_word_index = dict([(value, key) for (key, value) in word_index.items()])\n",
    "decoded_review = ' '.join([reverse_word_index.get(i - 3, '?') for i in train_data[review_index]])\n",
    "\n",
    "# Print the first review in the training set\n",
    "print(\"Review at index {}:\".format(review_index))\n",
    "print(decoded_review)\n",
    "\n",
    "# Print the corresponding label\n",
    "print(\"Label:\", train_labels[review_index])\n",
    "#label  0 is -ve and label 1 is +ve\n"
   ]
  },
  {
   "cell_type": "code",
   "execution_count": 42,
   "id": "a605d335",
   "metadata": {},
   "outputs": [
    {
     "name": "stdout",
     "output_type": "stream",
     "text": [
      "Enter the Label of the review: 1\n",
      "The review of the movie is Positive\n"
     ]
    }
   ],
   "source": [
    "review_check = int(input(\"Enter the Label of the review: \"))\n",
    "# sentiment_printed = False\n",
    "\n",
    "for label in train_labels:\n",
    "    if review_check == 0:\n",
    "        print(\"The Review of the movie is Negetive \")\n",
    "    elif review_check == 1:\n",
    "        print(\"The review of the movie is Positive\")\n",
    "    else:\n",
    "        print(\"Invalid label\")\n",
    "    sentiment_printed = True\n",
    "    break  # Exit the loop after printing the sentiment once\n",
    "\n",
    "# if not sentiment_printed:\n",
    "#     print(\"No sentiment printed. Something went wrong.\")\n",
    "\n"
   ]
  },
  {
   "cell_type": "code",
   "execution_count": null,
   "id": "db67583c",
   "metadata": {},
   "outputs": [],
   "source": []
  }
 ],
 "metadata": {
  "kernelspec": {
   "display_name": "Python 3 (ipykernel)",
   "language": "python",
   "name": "python3"
  },
  "language_info": {
   "codemirror_mode": {
    "name": "ipython",
    "version": 3
   },
   "file_extension": ".py",
   "mimetype": "text/x-python",
   "name": "python",
   "nbconvert_exporter": "python",
   "pygments_lexer": "ipython3",
   "version": "3.10.9"
  }
 },
 "nbformat": 4,
 "nbformat_minor": 5
}
