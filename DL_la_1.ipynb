{
  "nbformat": 4,
  "nbformat_minor": 0,
  "metadata": {
    "colab": {
      "provenance": []
    },
    "kernelspec": {
      "name": "python3",
      "display_name": "Python 3"
    },
    "language_info": {
      "name": "python"
    }
  },
  "cells": [
    {
      "cell_type": "code",
      "source": [
        "import numpy as np\n",
        "import pandas as pd\n",
        "from sklearn.model_selection import train_test_split\n",
        "from sklearn.linear_model import LinearRegression\n",
        "from sklearn.metrics import r2_score, mean_absolute_error, mean_squared_error\n",
        "from sklearn.preprocessing import StandardScaler\n",
        "import tensorflow as tf\n",
        "from tensorflow.keras.models import Sequential\n",
        "from tensorflow.keras.layers import Dense\n",
        "\n",
        "# Step 1: Load the dataset\n",
        "data = pd.read_csv('housing.csv', delim_whitespace=True, header=None)"
      ],
      "metadata": {
        "id": "HbYJWsS0V1jr"
      },
      "execution_count": null,
      "outputs": []
    },
    {
      "cell_type": "code",
      "source": [
        "data.shape"
      ],
      "metadata": {
        "colab": {
          "base_uri": "https://localhost:8080/"
        },
        "id": "TOFFqa8VWQ7U",
        "outputId": "5e5dd38a-69b4-4981-f828-7dfe9c93130e"
      },
      "execution_count": null,
      "outputs": [
        {
          "output_type": "execute_result",
          "data": {
            "text/plain": [
              "(506, 14)"
            ]
          },
          "metadata": {},
          "execution_count": 139
        }
      ]
    },
    {
      "cell_type": "code",
      "source": [
        "# Step 2: Preprocess the data\n",
        "#X contains all columns except the last one\n",
        "X = data.iloc[:, :-1].values  # Features\n",
        "print(X)"
      ],
      "metadata": {
        "colab": {
          "base_uri": "https://localhost:8080/"
        },
        "id": "s4P--XJ7V2jJ",
        "outputId": "55802c2b-7c4f-4538-8da2-7542a4092182"
      },
      "execution_count": null,
      "outputs": [
        {
          "output_type": "stream",
          "name": "stdout",
          "text": [
            "[[6.3200e-03 1.8000e+01 2.3100e+00 ... 1.5300e+01 3.9690e+02 4.9800e+00]\n",
            " [2.7310e-02 0.0000e+00 7.0700e+00 ... 1.7800e+01 3.9690e+02 9.1400e+00]\n",
            " [2.7290e-02 0.0000e+00 7.0700e+00 ... 1.7800e+01 3.9283e+02 4.0300e+00]\n",
            " ...\n",
            " [6.0760e-02 0.0000e+00 1.1930e+01 ... 2.1000e+01 3.9690e+02 5.6400e+00]\n",
            " [1.0959e-01 0.0000e+00 1.1930e+01 ... 2.1000e+01 3.9345e+02 6.4800e+00]\n",
            " [4.7410e-02 0.0000e+00 1.1930e+01 ... 2.1000e+01 3.9690e+02 7.8800e+00]]\n"
          ]
        }
      ]
    },
    {
      "cell_type": "code",
      "source": [
        "# y contains only the last column.\n",
        "y = data.iloc[:, -1].values   # Target variable\n",
        "\n",
        "print(y)"
      ],
      "metadata": {
        "colab": {
          "base_uri": "https://localhost:8080/"
        },
        "id": "gpiBHMLLWBBd",
        "outputId": "033aa13d-86e5-4039-bee1-e41597b4236c"
      },
      "execution_count": null,
      "outputs": [
        {
          "output_type": "stream",
          "name": "stdout",
          "text": [
            "[24.  21.6 34.7 33.4 36.2 28.7 22.9 27.1 16.5 18.9 15.  18.9 21.7 20.4\n",
            " 18.2 19.9 23.1 17.5 20.2 18.2 13.6 19.6 15.2 14.5 15.6 13.9 16.6 14.8\n",
            " 18.4 21.  12.7 14.5 13.2 13.1 13.5 18.9 20.  21.  24.7 30.8 34.9 26.6\n",
            " 25.3 24.7 21.2 19.3 20.  16.6 14.4 19.4 19.7 20.5 25.  23.4 18.9 35.4\n",
            " 24.7 31.6 23.3 19.6 18.7 16.  22.2 25.  33.  23.5 19.4 22.  17.4 20.9\n",
            " 24.2 21.7 22.8 23.4 24.1 21.4 20.  20.8 21.2 20.3 28.  23.9 24.8 22.9\n",
            " 23.9 26.6 22.5 22.2 23.6 28.7 22.6 22.  22.9 25.  20.6 28.4 21.4 38.7\n",
            " 43.8 33.2 27.5 26.5 18.6 19.3 20.1 19.5 19.5 20.4 19.8 19.4 21.7 22.8\n",
            " 18.8 18.7 18.5 18.3 21.2 19.2 20.4 19.3 22.  20.3 20.5 17.3 18.8 21.4\n",
            " 15.7 16.2 18.  14.3 19.2 19.6 23.  18.4 15.6 18.1 17.4 17.1 13.3 17.8\n",
            " 14.  14.4 13.4 15.6 11.8 13.8 15.6 14.6 17.8 15.4 21.5 19.6 15.3 19.4\n",
            " 17.  15.6 13.1 41.3 24.3 23.3 27.  50.  50.  50.  22.7 25.  50.  23.8\n",
            " 23.8 22.3 17.4 19.1 23.1 23.6 22.6 29.4 23.2 24.6 29.9 37.2 39.8 36.2\n",
            " 37.9 32.5 26.4 29.6 50.  32.  29.8 34.9 37.  30.5 36.4 31.1 29.1 50.\n",
            " 33.3 30.3 34.6 34.9 32.9 24.1 42.3 48.5 50.  22.6 24.4 22.5 24.4 20.\n",
            " 21.7 19.3 22.4 28.1 23.7 25.  23.3 28.7 21.5 23.  26.7 21.7 27.5 30.1\n",
            " 44.8 50.  37.6 31.6 46.7 31.5 24.3 31.7 41.7 48.3 29.  24.  25.1 31.5\n",
            " 23.7 23.3 22.  20.1 22.2 23.7 17.6 18.5 24.3 20.5 24.5 26.2 24.4 24.8\n",
            " 29.6 42.8 21.9 20.9 44.  50.  36.  30.1 33.8 43.1 48.8 31.  36.5 22.8\n",
            " 30.7 50.  43.5 20.7 21.1 25.2 24.4 35.2 32.4 32.  33.2 33.1 29.1 35.1\n",
            " 45.4 35.4 46.  50.  32.2 22.  20.1 23.2 22.3 24.8 28.5 37.3 27.9 23.9\n",
            " 21.7 28.6 27.1 20.3 22.5 29.  24.8 22.  26.4 33.1 36.1 28.4 33.4 28.2\n",
            " 22.8 20.3 16.1 22.1 19.4 21.6 23.8 16.2 17.8 19.8 23.1 21.  23.8 23.1\n",
            " 20.4 18.5 25.  24.6 23.  22.2 19.3 22.6 19.8 17.1 19.4 22.2 20.7 21.1\n",
            " 19.5 18.5 20.6 19.  18.7 32.7 16.5 23.9 31.2 17.5 17.2 23.1 24.5 26.6\n",
            " 22.9 24.1 18.6 30.1 18.2 20.6 17.8 21.7 22.7 22.6 25.  19.9 20.8 16.8\n",
            " 21.9 27.5 21.9 23.1 50.  50.  50.  50.  50.  13.8 13.8 15.  13.9 13.3\n",
            " 13.1 10.2 10.4 10.9 11.3 12.3  8.8  7.2 10.5  7.4 10.2 11.5 15.1 23.2\n",
            "  9.7 13.8 12.7 13.1 12.5  8.5  5.   6.3  5.6  7.2 12.1  8.3  8.5  5.\n",
            " 11.9 27.9 17.2 27.5 15.  17.2 17.9 16.3  7.   7.2  7.5 10.4  8.8  8.4\n",
            " 16.7 14.2 20.8 13.4 11.7  8.3 10.2 10.9 11.   9.5 14.5 14.1 16.1 14.3\n",
            " 11.7 13.4  9.6  8.7  8.4 12.8 10.5 17.1 18.4 15.4 10.8 11.8 14.9 12.6\n",
            " 14.1 13.  13.4 15.2 16.1 17.8 14.9 14.1 12.7 13.5 14.9 20.  16.4 17.7\n",
            " 19.5 20.2 21.4 19.9 19.  19.1 19.1 20.1 19.9 19.6 23.2 29.8 13.8 13.3\n",
            " 16.7 12.  14.6 21.4 23.  23.7 25.  21.8 20.6 21.2 19.1 20.6 15.2  7.\n",
            "  8.1 13.6 20.1 21.8 24.5 23.1 19.7 18.3 21.2 17.5 16.8 22.4 20.6 23.9\n",
            " 22.  11.9]\n"
          ]
        }
      ]
    },
    {
      "cell_type": "code",
      "source": [
        "X.shape"
      ],
      "metadata": {
        "colab": {
          "base_uri": "https://localhost:8080/"
        },
        "id": "yIHykXd3WHNX",
        "outputId": "1d751546-c307-4fad-f814-b9a6bc1c5b1f"
      },
      "execution_count": null,
      "outputs": [
        {
          "output_type": "execute_result",
          "data": {
            "text/plain": [
              "(506, 13)"
            ]
          },
          "metadata": {},
          "execution_count": 137
        }
      ]
    },
    {
      "cell_type": "code",
      "source": [
        "y.shape"
      ],
      "metadata": {
        "colab": {
          "base_uri": "https://localhost:8080/"
        },
        "id": "lTfshGEYWKC2",
        "outputId": "f466f501-c187-4019-9053-d71328851c38"
      },
      "execution_count": null,
      "outputs": [
        {
          "output_type": "execute_result",
          "data": {
            "text/plain": [
              "(506,)"
            ]
          },
          "metadata": {},
          "execution_count": 138
        }
      ]
    },
    {
      "cell_type": "code",
      "source": [
        "# Standardize the features,This part standardizes the features by scaling them to have a mean of 0 and a standard deviation of 1\n",
        "scaler = StandardScaler()\n",
        "X_scaled = scaler.fit_transform(X)\n",
        "\n",
        "# Reshape y to have compatible dimensions\n",
        "y = y.reshape(-1, 1)"
      ],
      "metadata": {
        "id": "sRIFqb_UWmgV"
      },
      "execution_count": null,
      "outputs": []
    },
    {
      "cell_type": "code",
      "source": [
        "y.shape"
      ],
      "metadata": {
        "colab": {
          "base_uri": "https://localhost:8080/"
        },
        "id": "_u2UmMH4WrdR",
        "outputId": "d7d230c7-21ad-4f0a-cf4d-09e15ca2b1e6"
      },
      "execution_count": null,
      "outputs": [
        {
          "output_type": "execute_result",
          "data": {
            "text/plain": [
              "(506, 1)"
            ]
          },
          "metadata": {},
          "execution_count": 141
        }
      ]
    },
    {
      "cell_type": "code",
      "source": [
        "# Split the dataset into training and testing sets\n",
        "X_train, X_test, y_train, y_test = train_test_split(X_scaled, y, test_size=0.2, random_state=42)\n"
      ],
      "metadata": {
        "id": "Jlrlv-I9WwY6"
      },
      "execution_count": null,
      "outputs": []
    },
    {
      "cell_type": "code",
      "source": [
        "# Step 3: Implement simple linear regression\n",
        "lr = LinearRegression()\n",
        "lr.fit(X_train, y_train)\n",
        "y_pred_lr = lr.predict(X_test)"
      ],
      "metadata": {
        "id": "bfAutWgLW1nr"
      },
      "execution_count": null,
      "outputs": []
    },
    {
      "cell_type": "code",
      "source": [
        "# Step 4: Calculate performance metrics for simple linear regression\n",
        "r2_lr = r2_score(y_test, y_pred_lr)\n",
        "mae_lr = mean_absolute_error(y_test, y_pred_lr)\n",
        "mse_lr = mean_squared_error(y_test, y_pred_lr)\n",
        "rmse_lr = np.sqrt(mse_lr)\n",
        "\n",
        "print(\"Simple Linear Regression Metrics:\")\n",
        "print(\"R2 Score:\", r2_lr)\n",
        "print(\"Mean Absolute Error (MAE):\", mae_lr)\n",
        "print(\"Mean Squared Error (MSE):\", mse_lr)\n",
        "print(\"Root Mean Squared Error (RMSE):\", rmse_lr)"
      ],
      "metadata": {
        "colab": {
          "base_uri": "https://localhost:8080/"
        },
        "id": "8N0XOYseW8Br",
        "outputId": "4bd6f67e-7ccf-4dd3-bd96-4371e4938162"
      },
      "execution_count": null,
      "outputs": [
        {
          "output_type": "stream",
          "name": "stdout",
          "text": [
            "Simple Linear Regression Metrics:\n",
            "R2 Score: 0.668759493535632\n",
            "Mean Absolute Error (MAE): 3.1890919658878487\n",
            "Mean Squared Error (MSE): 24.291119474973513\n",
            "Root Mean Squared Error (RMSE): 4.928602182665336\n"
          ]
        }
      ]
    },
    {
      "cell_type": "code",
      "source": [
        "# Step 5: Implement linear regression using a DNN\n",
        "model = Sequential([\n",
        "    Dense(64, input_shape=(X_train.shape[1],), activation='relu'),\n",
        "    Dense(1)\n",
        "])\n",
        "\n",
        "model.compile(optimizer='adam', loss='mse')\n",
        "model.fit(X_train, y_train, epochs=100, batch_size=32, verbose=0)\n",
        "\n",
        "y_pred_dnn = model.predict(X_test)"
      ],
      "metadata": {
        "colab": {
          "base_uri": "https://localhost:8080/"
        },
        "id": "ZMOQ0HR2XBOB",
        "outputId": "b60140b6-94ac-447d-a1e0-e0ce65b892ab"
      },
      "execution_count": null,
      "outputs": [
        {
          "output_type": "stream",
          "name": "stdout",
          "text": [
            "4/4 [==============================] - 0s 3ms/step\n"
          ]
        }
      ]
    },
    {
      "cell_type": "code",
      "source": [
        "# Step 6: Calculate performance metrics for linear regression using DNN\n",
        "r2_dnn = r2_score(y_test, y_pred_dnn)\n",
        "mae_dnn = mean_absolute_error(y_test, y_pred_dnn)\n",
        "mse_dnn = mean_squared_error(y_test, y_pred_dnn)\n",
        "rmse_dnn = np.sqrt(mse_dnn)\n",
        "\n",
        "print(\"\\nLinear Regression using DNN Metrics:\")\n",
        "print(\"R2 Score:\", r2_dnn)\n",
        "print(\"Mean Absolute Error (MAE):\", mae_dnn)\n",
        "print(\"Mean Squared Error (MSE):\", mse_dnn)\n",
        "print(\"Root Mean Squared Error (RMSE):\", rmse_dnn)\n"
      ],
      "metadata": {
        "colab": {
          "base_uri": "https://localhost:8080/"
        },
        "id": "QOY71bUEXH4l",
        "outputId": "076e070f-70ba-4ef4-f56d-c7cfe8a7a8ab"
      },
      "execution_count": null,
      "outputs": [
        {
          "output_type": "stream",
          "name": "stdout",
          "text": [
            "\n",
            "Linear Regression using DNN Metrics:\n",
            "R2 Score: 0.7569252471078556\n",
            "Mean Absolute Error (MAE): 2.736520586761774\n",
            "Mean Squared Error (MSE): 17.825591220341604\n",
            "Root Mean Squared Error (RMSE): 4.222036383114386\n"
          ]
        }
      ]
    },
    {
      "cell_type": "code",
      "source": [
        "# Comparison of Algorithms\n",
        "print(\"\\nComparison of Algorithms:\")\n",
        "print(\"Simple Linear Regression - R2 Score:\", r2_lr)\n",
        "print(\"Linear Regression using DNN - R2 Score:\", r2_dnn)\n",
        "print(\"\\nSimple Linear Regression - MAE:\", mae_lr)\n",
        "print(\"Linear Regression using DNN - MAE:\", mae_dnn)\n",
        "print(\"\\nSimple Linear Regression - MSE:\", mse_lr)\n",
        "print(\"Linear Regression using DNN - MSE:\", mse_dnn)\n",
        "print(\"\\nSimple Linear Regression - RMSE:\", rmse_lr)\n",
        "print(\"Linear Regression using DNN - RMSE:\", rmse_dnn)\n"
      ],
      "metadata": {
        "colab": {
          "base_uri": "https://localhost:8080/"
        },
        "id": "kEqCKWfaXMG0",
        "outputId": "0557d37f-e065-4b77-b63d-d1a5dd7ff027"
      },
      "execution_count": null,
      "outputs": [
        {
          "output_type": "stream",
          "name": "stdout",
          "text": [
            "\n",
            "Comparison of Algorithms:\n",
            "Simple Linear Regression - R2 Score: 0.668759493535632\n",
            "Linear Regression using DNN - R2 Score: 0.7569252471078556\n",
            "\n",
            "Simple Linear Regression - MAE: 3.1890919658878487\n",
            "Linear Regression using DNN - MAE: 2.736520586761774\n",
            "\n",
            "Simple Linear Regression - MSE: 24.291119474973513\n",
            "Linear Regression using DNN - MSE: 17.825591220341604\n",
            "\n",
            "Simple Linear Regression - RMSE: 4.928602182665336\n",
            "Linear Regression using DNN - RMSE: 4.222036383114386\n"
          ]
        }
      ]
    },
    {
      "cell_type": "code",
      "source": [
        "print(\"Hence Linear Regression using DNN  is better than Simple Linear Regression \\n as  DNN model has higher R2 score, and lower MAE, MSE, and RMSE compared to the simple linear regression model\")"
      ],
      "metadata": {
        "colab": {
          "base_uri": "https://localhost:8080/"
        },
        "id": "X-fxlI2sXQBy",
        "outputId": "dd760f55-9f85-4160-865a-5d0469117a83"
      },
      "execution_count": null,
      "outputs": [
        {
          "output_type": "stream",
          "name": "stdout",
          "text": [
            "Hence Linear Regression using DNN  is better than Simple Linear Regression \n",
            " as  DNN model has higher R2 score, and lower MAE, MSE, and RMSE compared to the simple linear regression model\n"
          ]
        }
      ]
    },
    {
      "cell_type": "code",
      "source": [
        "# # # delim_whitespace=True: This parameter specifies that the delimiter in the CSV file is whitespace (spaces or tabs),\n",
        "# rather than the default comma (,). This is because some datasets may use whitespace as the delimiter instead of commas.\n",
        "\n",
        "\n",
        "# # A delimiter, in the context of data processing and storage, is a character or sequence of\n",
        "# characters used to separate individual pieces of data within a larger dataset.\n",
        "\n",
        "# # # header=None: This parameter specifies that the CSV file does not contain a header row.\n",
        "# In other words, the first row of the CSV file will be treated as data rather than column names.\n",
        "# If the CSV file does contain a header row with column names, you would typically set header=0 to indicate\n",
        "# that the first row contains the column names"
      ],
      "metadata": {
        "id": "PHeNi0vMY7Pb"
      },
      "execution_count": null,
      "outputs": []
    }
  ]
}