{
 "cells": [
  {
   "cell_type": "markdown",
   "metadata": {},
   "source": [
    "Classification using Deep neural network:\n",
    "Binary classification using Deep Neural Networks Example: Classify movie reviews into \n",
    "positive reviews and negative reviews, just based on the text content of the reviews.\n",
    "Use IMDB dataset"
   ]
  },
  {
   "cell_type": "code",
   "execution_count": 1,
   "metadata": {},
   "outputs": [],
   "source": [
    "import numpy as np\n",
    "from keras.datasets import imdb\n",
    "from keras.models import Sequential\n",
    "from keras.layers import Dense, Embedding, Flatten\n",
    "from keras.preprocessing.sequence import pad_sequences"
   ]
  },
  {
   "cell_type": "code",
   "execution_count": 2,
   "metadata": {},
   "outputs": [],
   "source": [
    "# Load the IMDB dataset with the top 10,000 most frequently occurring words\n",
    "max_words = 10000\n",
    "(X_train, y_train), (X_test, y_test) = imdb.load_data(num_words=max_words)      # sequence of x_train, y_train ,.. is different"
   ]
  },
  {
   "cell_type": "code",
   "execution_count": 3,
   "metadata": {},
   "outputs": [],
   "source": [
    "# Preprocess the data: pad sequences to have the same length\n",
    "maxlen = 200\n",
    "X_train = pad_sequences(X_train, maxlen=maxlen)\n",
    "X_test = pad_sequences(X_test, maxlen=maxlen)"
   ]
  },
  {
   "cell_type": "code",
   "execution_count": 4,
   "metadata": {},
   "outputs": [],
   "source": [
    "# Define the model\n",
    "model = Sequential()\n",
    "model.add(Embedding(input_dim=max_words, output_dim=32,input_length=maxlen))\n",
    "model.add(Flatten())\n",
    "model.add(Dense(1, activation='sigmoid'))"
   ]
  },
  {
   "cell_type": "code",
   "execution_count": 7,
   "metadata": {},
   "outputs": [],
   "source": [
    "# Compile the model\n",
    "model.compile(optimizer='adam', loss='binary_crossentropy', metrics=['accuracy'])"
   ]
  },
  {
   "cell_type": "code",
   "execution_count": 8,
   "metadata": {},
   "outputs": [
    {
     "name": "stdout",
     "output_type": "stream",
     "text": [
      "Epoch 1/5\n",
      "625/625 [==============================] - 8s 11ms/step - loss: 0.0478 - accuracy: 0.9909 - val_loss: 0.3317 - val_accuracy: 0.8754\n",
      "Epoch 2/5\n",
      "625/625 [==============================] - 7s 11ms/step - loss: 0.0157 - accuracy: 0.9983 - val_loss: 0.3598 - val_accuracy: 0.8752\n",
      "Epoch 3/5\n",
      "625/625 [==============================] - 7s 11ms/step - loss: 0.0068 - accuracy: 0.9998 - val_loss: 0.3900 - val_accuracy: 0.8752\n",
      "Epoch 4/5\n",
      "625/625 [==============================] - 7s 12ms/step - loss: 0.0034 - accuracy: 1.0000 - val_loss: 0.4196 - val_accuracy: 0.8762\n",
      "Epoch 5/5\n",
      "625/625 [==============================] - 7s 12ms/step - loss: 0.0019 - accuracy: 0.9999 - val_loss: 0.4367 - val_accuracy: 0.8760\n"
     ]
    },
    {
     "data": {
      "text/plain": [
       "<keras.src.callbacks.History at 0x20931dcf250>"
      ]
     },
     "execution_count": 8,
     "metadata": {},
     "output_type": "execute_result"
    }
   ],
   "source": [
    "# Train the model\n",
    "model.fit(X_train, y_train, epochs=5, validation_split=0.2)"
   ]
  },
  {
   "cell_type": "code",
   "execution_count": 9,
   "metadata": {},
   "outputs": [
    {
     "name": "stdout",
     "output_type": "stream",
     "text": [
      "782/782 [==============================] - 2s 2ms/step - loss: 0.4574 - accuracy: 0.8670\n",
      "Test Loss: 0.4574005603790283\n",
      "Test Accuracy: 0.8670399785041809\n"
     ]
    }
   ],
   "source": [
    "# Evaluate the model on the test set\n",
    "loss, accuracy = model.evaluate(X_test, y_test)\n",
    "print(\"Test Loss:\", loss)\n",
    "print(\"Test Accuracy:\", accuracy)"
   ]
  },
  {
   "cell_type": "code",
   "execution_count": 10,
   "metadata": {},
   "outputs": [
    {
     "name": "stdout",
     "output_type": "stream",
     "text": [
      "782/782 [==============================] - 2s 2ms/step\n"
     ]
    }
   ],
   "source": [
    "# Predict labels for test data\n",
    "predictions = model.predict(X_test)\n",
    "\n",
    "# Round predictions to convert probabilities to binary labels (0 or 1)\n",
    "binary_predictions = np.round(predictions)"
   ]
  },
  {
   "cell_type": "code",
   "execution_count": 12,
   "metadata": {},
   "outputs": [
    {
     "name": "stdout",
     "output_type": "stream",
     "text": [
      "Actual\t\t\tPredicted\n",
      "\n",
      "Negative\t\tNegative\n",
      "Positive\t\tPositive\n",
      "Positive\t\tNegative\n",
      "Negative\t\tNegative\n",
      "Positive\t\tPositive\n",
      "Positive\t\tPositive\n",
      "Positive\t\tPositive\n",
      "Negative\t\tNegative\n",
      "Negative\t\tPositive\n",
      "Positive\t\tPositive\n",
      "Positive\t\tPositive\n",
      "Negative\t\tNegative\n",
      "Negative\t\tNegative\n",
      "Negative\t\tNegative\n",
      "Positive\t\tPositive\n",
      "Negative\t\tNegative\n",
      "Positive\t\tPositive\n",
      "Negative\t\tNegative\n",
      "Negative\t\tNegative\n",
      "Negative\t\tNegative\n",
      "Positive\t\tPositive\n",
      "Positive\t\tPositive\n",
      "Positive\t\tPositive\n",
      "Positive\t\tPositive\n",
      "Positive\t\tPositive\n",
      "Positive\t\tPositive\n",
      "Negative\t\tNegative\n",
      "Positive\t\tPositive\n",
      "Positive\t\tPositive\n",
      "Negative\t\tNegative\n"
     ]
    }
   ],
   "source": [
    "print(\"Actual\\t\\t\\tPredicted\")\n",
    "print()\n",
    "\n",
    "for i in range(30):\n",
    "    actual_label = \"Positive\" if y_test[i] == 1 else \"Negative\"\n",
    "    predicted_label = \"Positive\" if binary_predictions[i] == 1 else \"Negative\"\n",
    "    print(f\"{actual_label}\\t\\t{predicted_label}\")"
   ]
  },
  {
   "cell_type": "code",
   "execution_count": null,
   "metadata": {},
   "outputs": [],
   "source": []
  }
 ],
 "metadata": {
  "kernelspec": {
   "display_name": "Python 3",
   "language": "python",
   "name": "python3"
  },
  "language_info": {
   "codemirror_mode": {
    "name": "ipython",
    "version": 3
   },
   "file_extension": ".py",
   "mimetype": "text/x-python",
   "name": "python",
   "nbconvert_exporter": "python",
   "pygments_lexer": "ipython3",
   "version": "3.8.5"
  }
 },
 "nbformat": 4,
 "nbformat_minor": 4
}
